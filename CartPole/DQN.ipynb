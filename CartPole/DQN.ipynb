{
 "cells": [
  {
   "cell_type": "markdown",
   "metadata": {},
   "source": [
    "# Cart Pole using DQN (Deep Q Network)"
   ]
  },
  {
   "cell_type": "code",
   "execution_count": 70,
   "metadata": {
    "collapsed": false
   },
   "outputs": [],
   "source": [
    "%matplotlib inline\n",
    "\n",
    "\n",
    "from keras.models import Sequential\n",
    "from keras.layers import Dense, Dropout\n",
    "from keras.optimizers import Adam\n",
    "import keras.backend as K\n",
    "from keras import losses\n",
    "\n",
    "import gym\n",
    "\n",
    "import random\n",
    "import numpy as np\n",
    "from collections import deque\n",
    "\n",
    "import matplotlib.pyplot as plt\n",
    "\n",
    "seed = 7\n",
    "np.random.seed(seed)"
   ]
  },
  {
   "cell_type": "markdown",
   "metadata": {},
   "source": [
    "# Class Variables\n",
    "state_size = state of game like angle, position <br>\n",
    "action_size = action like 0(move right) and 1(move left) <br>\n",
    "memory = store the experience <br>\n",
    "gamma = discount rate (to find future discounted reward ) <br>\n",
    "epsilon - exploration rate (take random steps rather than using model's prediction to explore)<br>\n",
    "epsion_decay = as model keeps learning we want to take predicted steps rather than random one<br>\n",
    "learning_rate - rate of learning (by how much values are updated in layers)<br>\n",
    "\n",
    "\n",
    "# Class Methods\n",
    "\n",
    "_build_model = returns keras model\n",
    "remember = store the experiences<br>\n",
    "act = returns the action to be taken<br>\n",
    "replay - trains the model with stored experiences"
   ]
  },
  {
   "cell_type": "code",
   "execution_count": 71,
   "metadata": {
    "collapsed": true
   },
   "outputs": [],
   "source": [
    "class Agent(object):\n",
    "    \n",
    "    def __init__(self,state_size, action_size):\n",
    "        self.state_size = state_size\n",
    "        self.action_size = action_size\n",
    "        self.memory = deque(maxlen = 2000)\n",
    "        self.gamma = 0.95         #discount rate\n",
    "        self.epsilon = 1.0        #exploration rate\n",
    "        self.epsilon_min = 0.01\n",
    "        self.epsilon_decay = 0.99\n",
    "        self.learning_rate = 0.0001\n",
    "        self.model = self._build_model()\n",
    "        \n",
    "        \n",
    "    def _loss(self, target, prediction):\n",
    "        error = prediction - target\n",
    "        return K.mean(K.sqrt(1+K.square(error))-1, axis=-1)\n",
    "    \n",
    "    def _build_model(self):\n",
    "        model = Sequential()\n",
    "        model.add(Dense(64, input_dim=self.state_size, activation='relu'))\n",
    "        model.add(Dense(128, activation='relu'))\n",
    "        model.add(Dense(128, activation='relu'))\n",
    "        model.add(Dense(self.action_size, activation='linear'))\n",
    "        model.compile(loss= losses.mean_squared_error,\n",
    "                      optimizer=Adam(lr=self.learning_rate))\n",
    "        return model\n",
    "    \n",
    "    def remember(self, state, action, reward, next_state, done):\n",
    "        self.memory.append( (state, action, reward, next_state, done) )\n",
    "        \n",
    "    def act(self, state):\n",
    "        \n",
    "        #select the random action\n",
    "        if np.random.rand() <= self.epsilon:\n",
    "            return random.randrange(self.action_size)\n",
    "        \n",
    "        #select the actions based on model's prediction\n",
    "        action = self.model.predict(state)\n",
    "        \n",
    "        return np.argmax(action[0])\n",
    "    \n",
    "    def replay(self, batch_size):\n",
    "        minibatch = random.sample(self.memory, batch_size)\n",
    "        \n",
    "        for state, action, reward, next_state, done in minibatch:\n",
    "            target = reward        #target is reward if game is finished\n",
    "            \n",
    "            #if game not finished then calculate the discounted future reward\n",
    "            #now the target is the future discounted reward\n",
    "            if not done:\n",
    "                target = reward + self.gamma * np.amax(self.model.predict(next_state)[0] )\n",
    "            \n",
    "            target_f = self.model.predict(state)\n",
    "            target_f[0][action] = target\n",
    "            \n",
    "            self.model.fit(state, target_f, epochs=1, verbose=0)\n",
    "            \n",
    "            if self.epsilon > self.epsilon_min:\n",
    "                self.epsilon *= self.epsilon_decay  \n",
    "    def load(self, name):\n",
    "        self.model.load_weights(name)\n",
    "\n",
    "    def save(self, name):\n",
    "        self.model.save_weights(name)"
   ]
  },
  {
   "cell_type": "markdown",
   "metadata": {},
   "source": [
    "# Now lets train the model"
   ]
  },
  {
   "cell_type": "code",
   "execution_count": 72,
   "metadata": {
    "collapsed": false
   },
   "outputs": [
    {
     "name": "stdout",
     "output_type": "stream",
     "text": [
      "\u001b[33mWARN: gym.spaces.Box autodetected dtype as <type 'numpy.float32'>. Please provide explicit dtype.\u001b[0m\n",
      "episode: 0/80, score: 11\n",
      "episode: 1/80, score: 30\n",
      "episode: 2/80, score: 8\n",
      "episode: 3/80, score: 9\n",
      "episode: 4/80, score: 9\n",
      "episode: 5/80, score: 9\n",
      "episode: 6/80, score: 7\n",
      "episode: 7/80, score: 9\n",
      "episode: 8/80, score: 10\n",
      "episode: 9/80, score: 8\n",
      "episode: 10/80, score: 9\n",
      "episode: 11/80, score: 7\n",
      "episode: 12/80, score: 8\n",
      "episode: 13/80, score: 10\n",
      "episode: 14/80, score: 9\n",
      "episode: 15/80, score: 10\n",
      "episode: 16/80, score: 17\n",
      "episode: 17/80, score: 66\n",
      "episode: 18/80, score: 17\n",
      "episode: 19/80, score: 14\n",
      "episode: 20/80, score: 16\n",
      "episode: 21/80, score: 20\n",
      "episode: 22/80, score: 61\n",
      "episode: 23/80, score: 45\n",
      "episode: 24/80, score: 50\n",
      "episode: 25/80, score: 79\n",
      "episode: 26/80, score: 76\n",
      "episode: 27/80, score: 60\n",
      "episode: 28/80, score: 99\n",
      "episode: 29/80, score: 109\n",
      "episode: 30/80, score: 107\n",
      "episode: 31/80, score: 128\n",
      "episode: 32/80, score: 156\n",
      "episode: 33/80, score: 155\n",
      "episode: 34/80, score: 154\n",
      "episode: 35/80, score: 163\n",
      "episode: 36/80, score: 199\n",
      "episode: 37/80, score: 162\n",
      "episode: 38/80, score: 145\n",
      "episode: 39/80, score: 199\n",
      "episode: 40/80, score: 173\n",
      "episode: 41/80, score: 170\n",
      "episode: 42/80, score: 199\n",
      "episode: 43/80, score: 190\n",
      "episode: 44/80, score: 199\n",
      "episode: 45/80, score: 199\n",
      "episode: 46/80, score: 199\n",
      "episode: 47/80, score: 199\n",
      "episode: 48/80, score: 179\n",
      "episode: 49/80, score: 198\n",
      "episode: 50/80, score: 199\n",
      "episode: 51/80, score: 138\n",
      "episode: 52/80, score: 156\n",
      "episode: 53/80, score: 199\n",
      "episode: 54/80, score: 148\n",
      "episode: 55/80, score: 199\n",
      "episode: 56/80, score: 125\n",
      "episode: 57/80, score: 199\n",
      "episode: 58/80, score: 194\n",
      "episode: 59/80, score: 175\n",
      "episode: 60/80, score: 117\n",
      "episode: 61/80, score: 153\n",
      "episode: 62/80, score: 199\n",
      "episode: 63/80, score: 199\n",
      "episode: 64/80, score: 172\n",
      "episode: 65/80, score: 148\n",
      "episode: 66/80, score: 176\n",
      "episode: 67/80, score: 181\n",
      "episode: 68/80, score: 199\n",
      "episode: 69/80, score: 199\n",
      "episode: 70/80, score: 199\n",
      "episode: 71/80, score: 193\n",
      "episode: 72/80, score: 199\n",
      "episode: 73/80, score: 199\n",
      "episode: 74/80, score: 199\n",
      "episode: 75/80, score: 144\n",
      "episode: 76/80, score: 199\n",
      "episode: 77/80, score: 147\n",
      "episode: 78/80, score: 155\n",
      "episode: 79/80, score: 155\n"
     ]
    }
   ],
   "source": [
    "env = gym.make('CartPole-v0')\n",
    "state_size = env.observation_space.shape[0]\n",
    "action_size = env.action_space.n\n",
    "episodes = 80\n",
    "batch_size = 32\n",
    "agent = Agent(state_size, action_size)\n",
    "\n",
    "for i in range(episodes):\n",
    "    state = env.reset()\n",
    "    \n",
    "    for time in range(500):\n",
    "#         env.render()\n",
    "        state = np.reshape(state, (1,state_size))\n",
    "        action = agent.act(state)             #take action in the game\n",
    "        \n",
    "        next_state, reward, done, _ = env.step(action)    #get the next states of the game\n",
    "        next_state = np.reshape(next_state, (1,state_size))\n",
    "        \n",
    "        reward = reward if not done else -0.5\n",
    "        \n",
    "        agent.remember(state, action, reward, next_state, done) # store the experience\n",
    "        \n",
    "        state = next_state\n",
    "        \n",
    "        # if game finished the calculate the score and move to next episode\n",
    "        if done:\n",
    "            print 'episode: {}/{}, score: {}'.format(i, episodes, time)\n",
    "            break\n",
    "        \n",
    "        if len(agent.memory) > batch_size:\n",
    "            agent.replay(batch_size)"
   ]
  },
  {
   "cell_type": "code",
   "execution_count": 73,
   "metadata": {
    "collapsed": false
   },
   "outputs": [],
   "source": [
    "agent.save('dqn.h5')"
   ]
  },
  {
   "cell_type": "code",
   "execution_count": 74,
   "metadata": {
    "collapsed": false
   },
   "outputs": [],
   "source": [
    "state  = env.reset()\n",
    "score = []\n",
    "\n",
    "for e in range(100):\n",
    "    for time in range(200):\n",
    "        state = np.reshape(state,(1,state_size))\n",
    "        action = agent.model.predict(state)[0]\n",
    "        action = np.argmax(action)\n",
    "        next_state, reward, done, _ = env.step(action)\n",
    "        state = next_state\n",
    "        \n",
    "        if done:\n",
    "            score.append(time)\n",
    "            state = env.reset()\n",
    "            break"
   ]
  },
  {
   "cell_type": "code",
   "execution_count": 75,
   "metadata": {
    "collapsed": false
   },
   "outputs": [
    {
     "name": "stdout",
     "output_type": "stream",
     "text": [
      "mean score is 160.5\n"
     ]
    }
   ],
   "source": [
    "print \"mean score is {}\".format(np.mean(score))"
   ]
  },
  {
   "cell_type": "code",
   "execution_count": 76,
   "metadata": {
    "collapsed": false
   },
   "outputs": [
    {
     "data": {
      "text/plain": [
       "[<matplotlib.lines.Line2D at 0x7f0b3950b550>]"
      ]
     },
     "execution_count": 76,
     "metadata": {},
     "output_type": "execute_result"
    },
    {
     "data": {
      "image/png": "[encoded data removed]",
      "text/plain": [
       "<matplotlib.figure.Figure at 0x7f0b39c80650>"
      ]
     },
     "metadata": {},
     "output_type": "display_data"
    }
   ],
   "source": [
    "plt.plot(score)"
   ]
  },
  {
   "cell_type": "code",
   "execution_count": null,
   "metadata": {
    "collapsed": true
   },
   "outputs": [],
   "source": []
  }
 ],
 "metadata": {
  "kernelspec": {
   "display_name": "Python 2",
   "language": "python",
   "name": "python2"
  },
  "language_info": {
   "codemirror_mode": {
    "name": "ipython",
    "version": 2
   },
   "file_extension": ".py",
   "mimetype": "text/x-python",
   "name": "python",
   "nbconvert_exporter": "python",
   "pygments_lexer": "ipython2",
   "version": "2.7.14"
  }
 },
 "nbformat": 4,
 "nbformat_minor": 2
}
